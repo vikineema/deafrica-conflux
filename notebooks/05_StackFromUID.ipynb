{
 "cells": [
  {
   "cell_type": "code",
   "execution_count": 1,
   "id": "220e1229-271f-43a8-847b-eb082f298628",
   "metadata": {},
   "outputs": [],
   "source": [
    "import os\n",
    "# These are the default AWS configurations for the Analysis Sandbox.\n",
    "# that are set in the environmnet variables. \n",
    "aws_default_config = {\n",
    "    #'AWS_NO_SIGN_REQUEST': 'YES', \n",
    "    'AWS_SECRET_ACCESS_KEY': 'fake',\n",
    "    'AWS_ACCESS_KEY_ID': 'fake',\n",
    "}\n",
    "\n",
    "# To access public bucket, need to remove the AWS credentials in \n",
    "# the environment variables or the following error will occur.\n",
    "# PermissionError: The AWS Access Key Id you provided does not exist in our records.\n",
    "\n",
    "for key in aws_default_config.keys():\n",
    "    if key in os.environ:\n",
    "        del os.environ[key]"
   ]
  },
  {
   "cell_type": "code",
   "execution_count": 2,
   "id": "89d02233-2a4f-4bd8-a438-cba2c8c3d433",
   "metadata": {},
   "outputs": [],
   "source": [
    "import json\n",
    "import logging\n",
    "\n",
    "import click\n",
    "import fsspec\n",
    "\n",
    "from deafrica_conflux.cli.logs import logging_setup\n",
    "from deafrica_conflux.io import check_dir_exists, check_file_exists, check_if_s3_uri\n",
    "from deafrica_conflux.stack import stack_polygon_timeseries_to_csv"
   ]
  },
  {
   "cell_type": "code",
   "execution_count": 3,
   "id": "26c32345-a175-45be-8aa0-bd50bc14c0dc",
   "metadata": {},
   "outputs": [],
   "source": [
    "verbose = 1\n",
    "# Path to the directory containing the parquet files output during polygon drill.\n",
    "drill_output_directory = \"s3://deafrica-waterbodies-dev/waterbodies/v0.0.2/conflux/drill_outputs_6M/\"\n",
    "# Path to the directory write the csvs to\n",
    "output_directory = \"s3://deafrica-waterbodies-dev/waterbodies/v0.0.2/senegal_basin/surface_area_change\"\n",
    "polygon_stringids_to_tileids_file = \"s3://deafrica-waterbodies-dev/waterbodies/v0.0.2/conflux/historical_extent_rasters/polygons_stringids_to_tileids.json\"\n",
    "polygon_uids = \"krvt190zcz\""
   ]
  },
  {
   "cell_type": "code",
   "execution_count": 4,
   "id": "e25e6fbd-ee51-4055-b171-6d0eb73e2cb8",
   "metadata": {},
   "outputs": [],
   "source": [
    "# Set up logger.\n",
    "logging_setup(verbose)\n",
    "_log = logging.getLogger(__name__)"
   ]
  },
  {
   "cell_type": "code",
   "execution_count": 5,
   "id": "6c9a92cb-46d4-4243-86ff-91cc631fd6ea",
   "metadata": {},
   "outputs": [],
   "source": [
    "# Support pathlib Paths\n",
    "output_directory = str(output_directory)\n",
    "drill_output_directory = str(drill_output_directory)\n",
    "polygon_stringids_to_tileids_file = str(polygon_stringids_to_tileids_file)"
   ]
  },
  {
   "cell_type": "code",
   "execution_count": 6,
   "id": "59a4570e-d625-4aeb-8fbb-a81266a2b623",
   "metadata": {},
   "outputs": [
    {
     "name": "stdout",
     "output_type": "stream",
     "text": [
      "[2024-01-29 07:20:37,675] {credentials.py:611} INFO - Found credentials in shared credentials file: ~/.aws/credentials\n"
     ]
    }
   ],
   "source": [
    "if not check_dir_exists(drill_output_directory):\n",
    "    _log.error(f\"Directory {drill_output_directory} does not exist!\")\n",
    "    raise FileNotFoundError(f\"Directory {drill_output_directory} does not exist!)\")"
   ]
  },
  {
   "cell_type": "code",
   "execution_count": 7,
   "id": "f15970e0-0f75-4642-959b-900694d0af95",
   "metadata": {},
   "outputs": [],
   "source": [
    "# Create the output directory if it does not exist.\n",
    "if not check_dir_exists(output_directory):\n",
    "    if check_if_s3_uri(output_directory):\n",
    "        fsspec.filesystem(\"s3\").makedirs(output_directory, exist_ok=True)\n",
    "    else:\n",
    "        fsspec.filesystem(\"file\").makedirs(output_directory, exist_ok=True)\n",
    "    _log.info(f\"Created directory {output_directory}\")"
   ]
  },
  {
   "cell_type": "code",
   "execution_count": 8,
   "id": "b8c203c9-6532-4a45-ba5e-03848ec68f1e",
   "metadata": {},
   "outputs": [],
   "source": [
    "if not check_file_exists(polygon_stringids_to_tileids_file):\n",
    "    _log.error(f\"File {polygon_stringids_to_tileids_file} does not exist!\")\n",
    "    raise FileNotFoundError(f\"File {polygon_stringids_to_tileids_file} does not exist!)\")"
   ]
  },
  {
   "cell_type": "code",
   "execution_count": 9,
   "id": "f7eccb8b-d26f-46eb-b505-e951734b5162",
   "metadata": {},
   "outputs": [],
   "source": [
    "if check_if_s3_uri(polygon_stringids_to_tileids_file):\n",
    "    fs = fsspec.filesystem(\"s3\")\n",
    "else:\n",
    "    fs = fsspec.filesystem(\"file\")\n",
    "\n",
    "with fs.open(polygon_stringids_to_tileids_file) as f:\n",
    "    polygon_stringids_to_tileids = json.load(f)"
   ]
  },
  {
   "cell_type": "code",
   "execution_count": 10,
   "id": "9d59a1f4-c3c9-443f-b914-7580803c178a",
   "metadata": {},
   "outputs": [],
   "source": [
    "polygon_uids = polygon_uids.split(\",\")\n",
    "polygon_uids = [i.strip() for i in polygon_uids]"
   ]
  },
  {
   "cell_type": "code",
   "execution_count": 11,
   "id": "27f342ca-306a-4820-8e57-f623014fd5d7",
   "metadata": {},
   "outputs": [
    {
     "name": "stdout",
     "output_type": "stream",
     "text": [
      "[2024-01-29 07:20:39,635] {stack.py:89} INFO - Stacking timeseries for the polygon krvt190zcz\n",
      "[2024-01-29 07:20:41,126] {io.py:347} INFO - Found 1401 parquet files.\n",
      "[2024-01-29 07:21:04,130] {stack.py:133} INFO - CSV file written to s3://deafrica-waterbodies-dev/waterbodies/v0.0.2/senegal_basin/surface_area_change/krvt/krvt190zcz.csv\n"
     ]
    }
   ],
   "source": [
    "for polygon_uid in polygon_uids:\n",
    "        stack_polygon_timeseries_to_csv(\n",
    "            polygon_uid=polygon_uid,\n",
    "            polygon_stringids_to_tileids=polygon_stringids_to_tileids,\n",
    "            drill_output_directory=drill_output_directory,\n",
    "            output_directory=output_directory,\n",
    "        )"
   ]
  }
 ],
 "metadata": {
  "kernelspec": {
   "display_name": "Python 3 (ipykernel)",
   "language": "python",
   "name": "python3"
  },
  "language_info": {
   "codemirror_mode": {
    "name": "ipython",
    "version": 3
   },
   "file_extension": ".py",
   "mimetype": "text/x-python",
   "name": "python",
   "nbconvert_exporter": "python",
   "pygments_lexer": "ipython3",
   "version": "3.10.12"
  }
 },
 "nbformat": 4,
 "nbformat_minor": 5
}
