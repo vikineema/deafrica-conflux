{
 "cells": [
  {
   "cell_type": "code",
   "execution_count": null,
   "id": "220e1229-271f-43a8-847b-eb082f298628",
   "metadata": {},
   "outputs": [],
   "source": [
    "import os\n",
    "# These are the default AWS configurations for the Analysis Sandbox.\n",
    "# that are set in the environmnet variables. \n",
    "aws_default_config = {\n",
    "    #'AWS_NO_SIGN_REQUEST': 'YES', \n",
    "    'AWS_SECRET_ACCESS_KEY': 'fake',\n",
    "    'AWS_ACCESS_KEY_ID': 'fake',\n",
    "}\n",
    "\n",
    "# To access public bucket, need to remove the AWS credentials in \n",
    "# the environment variables or the following error will occur.\n",
    "# PermissionError: The AWS Access Key Id you provided does not exist in our records.\n",
    "\n",
    "for key in aws_default_config.keys():\n",
    "    if key in os.environ:\n",
    "        del os.environ[key]"
   ]
  },
  {
   "cell_type": "code",
   "execution_count": null,
   "id": "89d02233-2a4f-4bd8-a438-cba2c8c3d433",
   "metadata": {},
   "outputs": [],
   "source": [
    "import json\n",
    "import logging\n",
    "\n",
    "import click\n",
    "import fsspec\n",
    "\n",
    "from deafrica_conflux.cli.logs import logging_setup\n",
    "from deafrica_conflux.io import check_dir_exists, check_file_exists, check_if_s3_uri\n",
    "from deafrica_conflux.stack import stack_polygon_timeseries_to_csv"
   ]
  },
  {
   "cell_type": "code",
   "execution_count": null,
   "id": "26c32345-a175-45be-8aa0-bd50bc14c0dc",
   "metadata": {},
   "outputs": [],
   "source": [
    "verbose = 1\n",
    "# Path to the directory containing the parquet files output during polygon drill.\n",
    "drill_output_directory = \"s3://deafrica-waterbodies-dev/waterbodies/v0.0.2/conflux/drill_output_parquet_files/\"\n",
    "# Path to the directory write the csvs to\n",
    "output_directory = \"s3://deafrica-waterbodies-dev/waterbodies/v0.0.2/senegal_basin/surface_area_change\"\n",
    "# JSON file containing the polygons ids.\n",
    "polygon_numericids_to_stringids_file = \"s3://deafrica-waterbodies-dev/waterbodies/v0.0.2/conflux/historical_extent_rasters/polygon_numericids_to_stringids.json\"\n",
    "polygon_stringids_to_tileids_file = \"s3://deafrica-waterbodies-dev/waterbodies/v0.0.2/conflux/historical_extent_rasters/polygons_stringids_to_tileids.json\""
   ]
  },
  {
   "cell_type": "code",
   "execution_count": null,
   "id": "02d5e499-d30b-4ad7-9c44-ba79564c73d8",
   "metadata": {},
   "outputs": [],
   "source": [
    "# Set up logger.\n",
    "logging_setup(verbose)\n",
    "_log = logging.getLogger(__name__)"
   ]
  },
  {
   "cell_type": "code",
   "execution_count": null,
   "id": "4bdf430c-4d87-4b8a-aad0-bc38ce8624fe",
   "metadata": {},
   "outputs": [],
   "source": [
    "# Support pathlib Paths\n",
    "output_directory = str(output_directory)\n",
    "drill_output_directory = str(drill_output_directory)\n",
    "polygon_numericids_to_stringids_file = str(polygon_numericids_to_stringids_file)\n",
    "polygon_stringids_to_tileids_file = str(polygon_stringids_to_tileids_file)"
   ]
  },
  {
   "cell_type": "code",
   "execution_count": null,
   "id": "7c2575bf-6ede-48c9-a3df-932220c97c17",
   "metadata": {},
   "outputs": [],
   "source": [
    "if not check_dir_exists(drill_output_directory):\n",
    "    _log.error(f\"Directory {drill_output_directory} does not exist!\")\n",
    "    raise FileNotFoundError(f\"Directory {drill_output_directory} does not exist!)\")\n",
    "\n",
    "# Create the output directory if it does not exist.\n",
    "if not check_dir_exists(output_directory):\n",
    "    if check_if_s3_uri(output_directory):\n",
    "        fsspec.filesystem(\"s3\").makedirs(output_directory, exist_ok=True)\n",
    "    else:\n",
    "        fsspec.filesystem(\"file\").makedirs(output_directory, exist_ok=True)\n",
    "    _log.info(f\"Created directory {output_directory}\")\n",
    "\n",
    "if not check_file_exists(polygon_numericids_to_stringids_file):\n",
    "    _log.error(f\"File {polygon_numericids_to_stringids_file} does not exist!\")\n",
    "    raise FileNotFoundError(f\"File {polygon_numericids_to_stringids_file} does not exist!)\")\n",
    "    \n",
    "if not check_file_exists(polygon_stringids_to_tileids_file):\n",
    "    _log.error(f\"File {polygon_stringids_to_tileids_file} does not exist!\")\n",
    "    raise FileNotFoundError(f\"File {polygon_stringids_to_tileids_file} does not exist!)\")"
   ]
  },
  {
   "cell_type": "code",
   "execution_count": null,
   "id": "1a26f104-8966-486e-8f8c-75338f36ed66",
   "metadata": {},
   "outputs": [],
   "source": [
    "# Read the polygons ids mapping file.\n",
    "if check_if_s3_uri(polygon_numericids_to_stringids_file):\n",
    "    fs = fsspec.filesystem(\"s3\")\n",
    "else:\n",
    "    fs = fsspec.filesystem(\"file\")\n",
    "\n",
    "with fs.open(polygon_numericids_to_stringids_file) as f:\n",
    "    polygon_numericids_to_stringids = json.load(f)\n",
    "\n",
    "polygon_uids = list(polygon_numericids_to_stringids.values())"
   ]
  },
  {
   "cell_type": "code",
   "execution_count": null,
   "id": "baf6f4d5-897c-4355-bfb8-770c1404178e",
   "metadata": {},
   "outputs": [],
   "source": [
    "if check_if_s3_uri(polygon_stringids_to_tileids_file):\n",
    "    fs = fsspec.filesystem(\"s3\")\n",
    "else:\n",
    "    fs = fsspec.filesystem(\"file\")\n",
    "\n",
    "with fs.open(polygon_stringids_to_tileids_file) as f:\n",
    "    polygon_stringids_to_tileids = json.load(f)"
   ]
  },
  {
   "cell_type": "code",
   "execution_count": null,
   "id": "2e3a3087-d94e-4b2c-a3e7-2a3c1e187965",
   "metadata": {
    "tags": []
   },
   "outputs": [],
   "source": [
    "%%time\n",
    "stack_polygon_timeseries_to_csv(\n",
    "    polygon_uids=polygon_uids,\n",
    "    polygon_stringids_to_tileids=polygon_stringids_to_tileids,\n",
    "    drill_output_directory=drill_output_directory,\n",
    "    output_directory=output_directory,\n",
    ")"
   ]
  }
 ],
 "metadata": {
  "kernelspec": {
   "display_name": "Python 3 (ipykernel)",
   "language": "python",
   "name": "python3"
  },
  "language_info": {
   "codemirror_mode": {
    "name": "ipython",
    "version": 3
   },
   "file_extension": ".py",
   "mimetype": "text/x-python",
   "name": "python",
   "nbconvert_exporter": "python",
   "pygments_lexer": "ipython3",
   "version": "3.10.12"
  }
 },
 "nbformat": 4,
 "nbformat_minor": 5
}
